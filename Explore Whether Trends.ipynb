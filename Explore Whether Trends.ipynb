{
 "cells": [
  {
   "cell_type": "code",
   "execution_count": 37,
   "metadata": {},
   "outputs": [
    {
     "data": {
      "image/png": "[encoded data removed]",
      "text/plain": [
       "<Figure size 432x288 with 1 Axes>"
      ]
     },
     "metadata": {
      "needs_background": "light"
     },
     "output_type": "display_data"
    }
   ],
   "source": [
    "# Project (1) - by Amani Abumansour #\n",
    "\n",
    "# To import Libraries\n",
    "import numpy as np\n",
    "import pandas as pd\n",
    "from matplotlib import pyplot as plt\n",
    "\n",
    "# To import the data extracted\n",
    "data = pd.read_csv('output.csv')\n",
    "\n",
    "# define a function to calculate the moving average \n",
    "def moving_avarage(ma_range,d_input):\n",
    "    output=d_input.rolling(window=ma_range, on=\"c_avg_temp\").mean().dropna()\n",
    "    return output\n",
    "\n",
    "# To call moving average function\n",
    "av_range = 140    # range\n",
    "chart_ma = moving_avarage(av_range, data)\n",
    "\n",
    "# To draw the line chart of global temperature\n",
    "plt.plot(chart_ma['year'], chart_ma['g_avg_temp'],label='Global')\n",
    "\n",
    "# To draw the line chart of local temperature\n",
    "plt.plot(chart_ma['year'], chart_ma['c_avg_temp'],label='Mecca')\n",
    "\n",
    "# To place legand outside the chart\n",
    "plt.legend(loc='upper center', bbox_to_anchor=(1.15, 0.5), shadow=True, ncol=1)\n",
    "\n",
    "# Labeling X-axis\n",
    "plt.xlabel('Years')      \n",
    "\n",
    "# Labeling Y-axis\n",
    "plt.ylabel('Avrage temperature (°c)')  \n",
    "\n",
    "# To provide topic to the chart\n",
    "plt.title('Global vs. Local Average Temperature') \n",
    "\n",
    "# To display the chart\n",
    "plt.show()\n"
   ]
  },
  {
   "cell_type": "code",
   "execution_count": null,
   "metadata": {},
   "outputs": [],
   "source": []
  },
  {
   "cell_type": "code",
   "execution_count": null,
   "metadata": {},
   "outputs": [],
   "source": []
  },
  {
   "cell_type": "code",
   "execution_count": null,
   "metadata": {},
   "outputs": [],
   "source": []
  },
  {
   "cell_type": "code",
   "execution_count": null,
   "metadata": {},
   "outputs": [],
   "source": []
  },
  {
   "cell_type": "code",
   "execution_count": null,
   "metadata": {},
   "outputs": [],
   "source": []
  },
  {
   "cell_type": "code",
   "execution_count": null,
   "metadata": {},
   "outputs": [],
   "source": []
  },
  {
   "cell_type": "code",
   "execution_count": null,
   "metadata": {},
   "outputs": [],
   "source": []
  },
  {
   "cell_type": "code",
   "execution_count": null,
   "metadata": {},
   "outputs": [],
   "source": []
  },
  {
   "cell_type": "code",
   "execution_count": null,
   "metadata": {},
   "outputs": [],
   "source": []
  },
  {
   "cell_type": "code",
   "execution_count": null,
   "metadata": {},
   "outputs": [],
   "source": []
  },
  {
   "cell_type": "code",
   "execution_count": null,
   "metadata": {},
   "outputs": [],
   "source": []
  },
  {
   "cell_type": "code",
   "execution_count": null,
   "metadata": {},
   "outputs": [],
   "source": []
  },
  {
   "cell_type": "code",
   "execution_count": null,
   "metadata": {},
   "outputs": [],
   "source": []
  },
  {
   "cell_type": "code",
   "execution_count": null,
   "metadata": {},
   "outputs": [],
   "source": []
  },
  {
   "cell_type": "code",
   "execution_count": null,
   "metadata": {},
   "outputs": [],
   "source": []
  },
  {
   "cell_type": "code",
   "execution_count": null,
   "metadata": {},
   "outputs": [],
   "source": []
  },
  {
   "cell_type": "code",
   "execution_count": null,
   "metadata": {},
   "outputs": [],
   "source": []
  },
  {
   "cell_type": "code",
   "execution_count": null,
   "metadata": {},
   "outputs": [],
   "source": []
  },
  {
   "cell_type": "code",
   "execution_count": null,
   "metadata": {},
   "outputs": [],
   "source": []
  },
  {
   "cell_type": "code",
   "execution_count": null,
   "metadata": {},
   "outputs": [],
   "source": []
  },
  {
   "cell_type": "code",
   "execution_count": null,
   "metadata": {},
   "outputs": [],
   "source": []
  },
  {
   "cell_type": "code",
   "execution_count": null,
   "metadata": {},
   "outputs": [],
   "source": []
  },
  {
   "cell_type": "code",
   "execution_count": null,
   "metadata": {},
   "outputs": [],
   "source": []
  },
  {
   "cell_type": "code",
   "execution_count": null,
   "metadata": {},
   "outputs": [],
   "source": []
  },
  {
   "cell_type": "code",
   "execution_count": null,
   "metadata": {},
   "outputs": [],
   "source": []
  },
  {
   "cell_type": "code",
   "execution_count": null,
   "metadata": {},
   "outputs": [],
   "source": []
  },
  {
   "cell_type": "code",
   "execution_count": null,
   "metadata": {},
   "outputs": [],
   "source": []
  },
  {
   "cell_type": "code",
   "execution_count": null,
   "metadata": {},
   "outputs": [],
   "source": []
  },
  {
   "cell_type": "code",
   "execution_count": null,
   "metadata": {},
   "outputs": [],
   "source": []
  },
  {
   "cell_type": "code",
   "execution_count": null,
   "metadata": {},
   "outputs": [],
   "source": []
  },
  {
   "cell_type": "code",
   "execution_count": 8,
   "metadata": {},
   "outputs": [
    {
     "name": "stdout",
     "output_type": "stream",
     "text": [
      "       year  g_avg_temp  c_avg_temp\n",
      "149  1917.5    8.414733       24.74\n",
      "150  1918.5    8.419400       25.90\n",
      "151  1919.5    8.428667       26.26\n",
      "152  1920.5    8.438667       26.33\n",
      "153  1921.5    8.441933       26.37\n",
      "154  1922.5    8.449333       25.88\n",
      "155  1923.5    8.459600       26.48\n",
      "156  1924.5    8.468333       26.75\n",
      "157  1925.5    8.477000       26.62\n",
      "158  1926.5    8.485200       26.60\n",
      "159  1927.5    8.495000       26.63\n",
      "160  1928.5    8.504933       26.87\n",
      "161  1929.5    8.512333       26.53\n",
      "162  1930.5    8.522933       26.47\n",
      "163  1931.5    8.533133       26.42\n",
      "164  1932.5    8.546267       26.58\n",
      "165  1933.5    8.555133       26.64\n",
      "166  1934.5    8.563533       26.90\n",
      "167  1935.5    8.575133       27.30\n",
      "168  1936.5    8.586267       26.57\n",
      "169  1937.5    8.599267       27.02\n",
      "170  1938.5    8.609267       27.57\n"
     ]
    }
   ],
   "source": [
    "print(chart_ma)"
   ]
  },
  {
   "cell_type": "code",
   "execution_count": null,
   "metadata": {},
   "outputs": [],
   "source": []
  },
  {
   "cell_type": "code",
   "execution_count": null,
   "metadata": {},
   "outputs": [],
   "source": []
  },
  {
   "cell_type": "code",
   "execution_count": null,
   "metadata": {},
   "outputs": [],
   "source": []
  },
  {
   "cell_type": "code",
   "execution_count": null,
   "metadata": {},
   "outputs": [],
   "source": []
  },
  {
   "cell_type": "code",
   "execution_count": null,
   "metadata": {},
   "outputs": [],
   "source": []
  },
  {
   "cell_type": "code",
   "execution_count": null,
   "metadata": {},
   "outputs": [],
   "source": []
  }
 ],
 "metadata": {
  "kernelspec": {
   "display_name": "Python 3",
   "language": "python",
   "name": "python3"
  },
  "language_info": {
   "codemirror_mode": {
    "name": "ipython",
    "version": 3
   },
   "file_extension": ".py",
   "mimetype": "text/x-python",
   "name": "python",
   "nbconvert_exporter": "python",
   "pygments_lexer": "ipython3",
   "version": "3.7.3"
  }
 },
 "nbformat": 4,
 "nbformat_minor": 2
}
